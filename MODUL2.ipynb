{
  "nbformat": 4,
  "nbformat_minor": 0,
  "metadata": {
    "colab": {
      "name": "MODUL2.ipynb",
      "provenance": [],
      "collapsed_sections": []
    },
    "kernelspec": {
      "name": "python3",
      "display_name": "Python 3"
    },
    "language_info": {
      "name": "python"
    }
  },
  "cells": [
    {
      "cell_type": "code",
      "execution_count": null,
      "metadata": {
        "id": "bIwHgAgngVTo"
      },
      "outputs": [],
      "source": [
        "#import library\n",
        "import pandas as pd\n",
        "import numpy as np\n",
        "import seaborn as sns\n",
        "\n",
        "from sklearn.preprocessing import MinMaxScaler\n",
        "import statsmodels.api as sm"
      ]
    },
    {
      "cell_type": "code",
      "source": [
        "df = pd.read_excel('indonesian_healtcare_and_pop.xlsx')\n",
        "df.head()"
      ],
      "metadata": {
        "id": "CT3X3LT4mWlS"
      },
      "execution_count": null,
      "outputs": []
    },
    {
      "cell_type": "code",
      "source": [
        "df = df[['year','population','male_u5','female_u5','male_ex','female_ex']]\n",
        "df.head()"
      ],
      "metadata": {
        "id": "uqrE5UbAm1FK"
      },
      "execution_count": null,
      "outputs": []
    },
    {
      "cell_type": "code",
      "source": [
        "#untuk meihat data kosong\n",
        "df.isnull().sum()"
      ],
      "metadata": {
        "id": "sg1XNeVTm1mu"
      },
      "execution_count": null,
      "outputs": []
    },
    {
      "cell_type": "code",
      "source": [
        "#untuk meghilangkan nilai kosong pada data dengan melakukan interpolasi\n",
        "#memperkirakan data sebelumnya\n",
        "df = df.interpolate(method = 'linear',axis=0)\n",
        "df.isnull().sum()"
      ],
      "metadata": {
        "id": "SQK6Sy7xoHVN"
      },
      "execution_count": null,
      "outputs": []
    },
    {
      "cell_type": "code",
      "source": [
        "df#\n",
        "df['population'].plot.line()"
      ],
      "metadata": {
        "id": "C2g4EUFMpyop"
      },
      "execution_count": null,
      "outputs": []
    },
    {
      "cell_type": "code",
      "source": [
        "df.plot.line(\n",
        "             x='year',\n",
        "             y='population',\n",
        "             figsize =(20,5),\n",
        "             title='Indonesian population by year',\n",
        "             xlabel = 'year',\n",
        "             ylabel='population',\n",
        "             marker='o',\n",
        ")"
      ],
      "metadata": {
        "id": "FVc1ScYzqFQd"
      },
      "execution_count": null,
      "outputs": []
    },
    {
      "cell_type": "code",
      "source": [
        "df.plot.line(\n",
        "    x= 'year',\n",
        "    y= ['male_ex','female_ex'],\n",
        "    figsize =(20,5),\n",
        "    marker ='x',\n",
        ")"
      ],
      "metadata": {
        "id": "msy7Lcqlq_J7"
      },
      "execution_count": null,
      "outputs": []
    },
    {
      "cell_type": "code",
      "source": [
        "df['margin_u5'] = df['male_u5']- df['female_u5']\n",
        "df['margin_ex'] = df['female_ex']- df['male_ex']\n",
        "df.head()"
      ],
      "metadata": {
        "id": "8UxTPxU6s1m4"
      },
      "execution_count": null,
      "outputs": []
    },
    {
      "cell_type": "code",
      "source": [
        "#\n",
        "data = df[['margin_u5','margin_ex']]\n",
        "scaler = MinMaxScaler().fit(data)\n",
        "\n",
        "\n",
        "hasil = scaler.transform(data)\n",
        "print(hasil)"
      ],
      "metadata": {
        "id": "uH9GHFUptypM"
      },
      "execution_count": null,
      "outputs": []
    },
    {
      "cell_type": "code",
      "source": [
        "##normalisai\n",
        "df[['norm_u5','norm_ex']]= hasil\n",
        "df.head()"
      ],
      "metadata": {
        "id": "1FebLdHFvGko"
      },
      "execution_count": null,
      "outputs": []
    },
    {
      "cell_type": "code",
      "source": [
        "#grafik margin setelah data normalisasi\n",
        "df.plot.line(\n",
        "    x='year',\n",
        "    y=['norm_u5','norm_ex'],\n",
        "    figsize=(20,5),\n",
        "    marker='o',\n",
        ")"
      ],
      "metadata": {
        "id": "4Hyo1vzKu3iS"
      },
      "execution_count": null,
      "outputs": []
    },
    {
      "cell_type": "code",
      "source": [
        "data_corr = df[['population', 'male_u5', 'female_u5', 'male_ex', 'female_ex', 'margin_u5', 'margin_ex']]\n",
        "\n",
        "r =data_corr.corr(method=\"pearson\")\n",
        "r\n"
      ],
      "metadata": {
        "id": "VjHNWocDx0Kt"
      },
      "execution_count": null,
      "outputs": []
    },
    {
      "cell_type": "code",
      "source": [
        "r_square = r**2\n",
        "r_square"
      ],
      "metadata": {
        "id": "LILhPnGcyPzH"
      },
      "execution_count": null,
      "outputs": []
    },
    {
      "cell_type": "code",
      "source": [
        "#visualisasi kan data heatmap\n",
        "sns.heatmap(r_square);\n"
      ],
      "metadata": {
        "id": "9EDjaabQ0E0m"
      },
      "execution_count": null,
      "outputs": []
    },
    {
      "cell_type": "code",
      "source": [
        "endog = df['population']\n",
        "model = sm.tsa.SARIMAX(endog,trend='c')\n",
        "res = model.fit()\n",
        "\n",
        "print(res.summary())"
      ],
      "metadata": {
        "id": "Y1QAVdw81Dzi"
      },
      "execution_count": null,
      "outputs": []
    },
    {
      "cell_type": "code",
      "source": [
        "#menebak/prediksi 3 tahun kedepan penduduk indonesi\n",
        "fcast =res.get_forecast(3)\n",
        "print(fcast.summary_frame(alpha=0.05))#margin off eror 5%"
      ],
      "metadata": {
        "id": "Bp-hJdGT2dZg"
      },
      "execution_count": null,
      "outputs": []
    },
    {
      "cell_type": "code",
      "source": [
        "#"
      ],
      "metadata": {
        "id": "FJTM1hke3Nun"
      },
      "execution_count": null,
      "outputs": []
    }
  ]
}